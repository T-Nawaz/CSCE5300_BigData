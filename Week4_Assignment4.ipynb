{
 "cells": [
  {
   "cell_type": "markdown",
   "id": "f3a9dd99",
   "metadata": {},
   "source": [
    "# Assignement 4\n",
    "## Student Information\n",
    "### Name: Tanzim Nawaz\n",
    "### ID: 11834685"
   ]
  },
  {
   "cell_type": "markdown",
   "id": "82895ace",
   "metadata": {},
   "source": [
    "## Problem Statement\n",
    "The task, based on my student ID, is to to perform T-Test to determine if there is a statistically significant difference in a dataset. \n",
    "\n",
    "I will be applying the T-Test on the tips dataset of seaborn python library. What I will be looking into is whether the tip amount is statistically significantly different between Lunch and Dinner time."
   ]
  },
  {
   "cell_type": "markdown",
   "id": "9b9c07f8",
   "metadata": {},
   "source": [
    "## Input Data Description \n",
    "\n",
    "I have opted to use the tips dataset from the seaborn library for this assignment to ensure originality and avoid common dataset choices. This is a real-world dataset that provides authentic restaurant service data, making it ideal for business analytics and statistical analysis.\n",
    "The tips dataset contains 244 restaurant transactions collected from a single restaurant and includes the following features:\n",
    "\n",
    "- tip: Tip amount in dollars (continuous variable, our primary variable of interest)\n",
    "- total_bill: Total bill amount in dollars (continuous variable)\n",
    "- sex: Customer gender (categorical: Male, Female)\n",
    "- smoker: Smoking status (categorical: Yes, No)\n",
    "- day: Day of the week (categorical: Thur, Fri, Sat, Sun)\n",
    "- time: Meal period (categorical: Lunch, Dinner - our grouping variable)\n",
    "- size: Party size/number of people (discrete variable: 1-6)"
   ]
  },
  {
   "cell_type": "markdown",
   "id": "d12a613e",
   "metadata": {},
   "source": [
    "## Methodology\n",
    "\n",
    "The very first step is to load the tips dataset from seaborn library.\n",
    "\n",
    "Then I will show some basic information about the dataset.\n",
    "\n",
    "Next, I will execute the T-Test with researchpy\n",
    "\n",
    "Finally, I will write the result interpretation."
   ]
  },
  {
   "cell_type": "code",
   "execution_count": 14,
   "id": "43f32c7a",
   "metadata": {},
   "outputs": [],
   "source": [
    "import pandas as pd\n",
    "import seaborn as sns\n",
    "import scipy.stats as stats\n",
    "import researchpy as rp\n",
    "import warnings\n",
    "\n",
    "warnings.filterwarnings('ignore', category=FutureWarning)\n"
   ]
  },
  {
   "cell_type": "markdown",
   "id": "38aebc06",
   "metadata": {},
   "source": [
    "The following section loads the dataset and displays some basic information."
   ]
  },
  {
   "cell_type": "code",
   "execution_count": null,
   "id": "3011abe5",
   "metadata": {},
   "outputs": [],
   "source": [
    "restaurant_tips_data = sns.load_dataset('tips')"
   ]
  },
  {
   "cell_type": "code",
   "execution_count": null,
   "id": "d78b6ae9",
   "metadata": {},
   "outputs": [
    {
     "name": "stdout",
     "output_type": "stream",
     "text": [
      "<class 'pandas.core.frame.DataFrame'>\n",
      "RangeIndex: 244 entries, 0 to 243\n",
      "Data columns (total 7 columns):\n",
      " #   Column      Non-Null Count  Dtype   \n",
      "---  ------      --------------  -----   \n",
      " 0   total_bill  244 non-null    float64 \n",
      " 1   tip         244 non-null    float64 \n",
      " 2   sex         244 non-null    category\n",
      " 3   smoker      244 non-null    category\n",
      " 4   day         244 non-null    category\n",
      " 5   time        244 non-null    category\n",
      " 6   size        244 non-null    int64   \n",
      "dtypes: category(4), float64(2), int64(1)\n",
      "memory usage: 7.4 KB\n"
     ]
    }
   ],
   "source": [
    "restaurant_tips_data.info()"
   ]
  },
  {
   "cell_type": "code",
   "execution_count": 17,
   "id": "e2f9195a",
   "metadata": {},
   "outputs": [
    {
     "data": {
      "text/html": [
       "<div>\n",
       "<style scoped>\n",
       "    .dataframe tbody tr th:only-of-type {\n",
       "        vertical-align: middle;\n",
       "    }\n",
       "\n",
       "    .dataframe tbody tr th {\n",
       "        vertical-align: top;\n",
       "    }\n",
       "\n",
       "    .dataframe thead th {\n",
       "        text-align: right;\n",
       "    }\n",
       "</style>\n",
       "<table border=\"1\" class=\"dataframe\">\n",
       "  <thead>\n",
       "    <tr style=\"text-align: right;\">\n",
       "      <th></th>\n",
       "      <th>total_bill</th>\n",
       "      <th>tip</th>\n",
       "      <th>sex</th>\n",
       "      <th>smoker</th>\n",
       "      <th>day</th>\n",
       "      <th>time</th>\n",
       "      <th>size</th>\n",
       "    </tr>\n",
       "  </thead>\n",
       "  <tbody>\n",
       "    <tr>\n",
       "      <th>0</th>\n",
       "      <td>16.99</td>\n",
       "      <td>1.01</td>\n",
       "      <td>Female</td>\n",
       "      <td>No</td>\n",
       "      <td>Sun</td>\n",
       "      <td>Dinner</td>\n",
       "      <td>2</td>\n",
       "    </tr>\n",
       "    <tr>\n",
       "      <th>1</th>\n",
       "      <td>10.34</td>\n",
       "      <td>1.66</td>\n",
       "      <td>Male</td>\n",
       "      <td>No</td>\n",
       "      <td>Sun</td>\n",
       "      <td>Dinner</td>\n",
       "      <td>3</td>\n",
       "    </tr>\n",
       "    <tr>\n",
       "      <th>2</th>\n",
       "      <td>21.01</td>\n",
       "      <td>3.50</td>\n",
       "      <td>Male</td>\n",
       "      <td>No</td>\n",
       "      <td>Sun</td>\n",
       "      <td>Dinner</td>\n",
       "      <td>3</td>\n",
       "    </tr>\n",
       "    <tr>\n",
       "      <th>3</th>\n",
       "      <td>23.68</td>\n",
       "      <td>3.31</td>\n",
       "      <td>Male</td>\n",
       "      <td>No</td>\n",
       "      <td>Sun</td>\n",
       "      <td>Dinner</td>\n",
       "      <td>2</td>\n",
       "    </tr>\n",
       "    <tr>\n",
       "      <th>4</th>\n",
       "      <td>24.59</td>\n",
       "      <td>3.61</td>\n",
       "      <td>Female</td>\n",
       "      <td>No</td>\n",
       "      <td>Sun</td>\n",
       "      <td>Dinner</td>\n",
       "      <td>4</td>\n",
       "    </tr>\n",
       "  </tbody>\n",
       "</table>\n",
       "</div>"
      ],
      "text/plain": [
       "   total_bill   tip     sex smoker  day    time  size\n",
       "0       16.99  1.01  Female     No  Sun  Dinner     2\n",
       "1       10.34  1.66    Male     No  Sun  Dinner     3\n",
       "2       21.01  3.50    Male     No  Sun  Dinner     3\n",
       "3       23.68  3.31    Male     No  Sun  Dinner     2\n",
       "4       24.59  3.61  Female     No  Sun  Dinner     4"
      ]
     },
     "execution_count": 17,
     "metadata": {},
     "output_type": "execute_result"
    }
   ],
   "source": [
    "restaurant_tips_data.head()"
   ]
  },
  {
   "cell_type": "code",
   "execution_count": 23,
   "id": "83b4f90c",
   "metadata": {},
   "outputs": [
    {
     "name": "stdout",
     "output_type": "stream",
     "text": [
      "Dataset Shape: (244, 7)\n",
      "Time categories: time\n",
      "Dinner    176\n",
      "Lunch      68\n",
      "Name: count, dtype: int64\n"
     ]
    }
   ],
   "source": [
    "print(\"Dataset Shape:\", restaurant_tips_data.shape)\n",
    "print(\"Time categories:\", restaurant_tips_data['time'].value_counts())"
   ]
  },
  {
   "cell_type": "code",
   "execution_count": null,
   "id": "266bd8db",
   "metadata": {},
   "outputs": [],
   "source": [
    "# Separate data into groups for analysis\n",
    "lunch_tips = restaurant_tips_data[restaurant_tips_data['time'] == 'Lunch']['tip']\n",
    "dinner_tips = restaurant_tips_data[restaurant_tips_data['time'] == 'Dinner']['tip']"
   ]
  },
  {
   "cell_type": "code",
   "execution_count": 20,
   "id": "fa57bea5",
   "metadata": {},
   "outputs": [
    {
     "name": "stdout",
     "output_type": "stream",
     "text": [
      "Lunch tips sample size: 68\n",
      "Dinner tips sample size: 176\n"
     ]
    }
   ],
   "source": [
    "print(f\"Lunch tips sample size: {len(lunch_tips)}\")\n",
    "print(f\"Dinner tips sample size: {len(dinner_tips)}\")"
   ]
  },
  {
   "cell_type": "code",
   "execution_count": 21,
   "id": "8e6b12c7",
   "metadata": {},
   "outputs": [],
   "source": [
    "# Perform independent samples t-test using researchpy\n",
    "test_summary, test_results = rp.ttest(\n",
    "    group1=lunch_tips, \n",
    "    group1_name=\"Lunch\",\n",
    "    group2=dinner_tips, \n",
    "    group2_name=\"Dinner\"\n",
    ")"
   ]
  },
  {
   "cell_type": "code",
   "execution_count": 22,
   "id": "d20aaa15",
   "metadata": {},
   "outputs": [
    {
     "name": "stdout",
     "output_type": "stream",
     "text": [
      "\n",
      "T-Test Summary Statistics:\n"
     ]
    },
    {
     "data": {
      "text/html": [
       "<div>\n",
       "<style scoped>\n",
       "    .dataframe tbody tr th:only-of-type {\n",
       "        vertical-align: middle;\n",
       "    }\n",
       "\n",
       "    .dataframe tbody tr th {\n",
       "        vertical-align: top;\n",
       "    }\n",
       "\n",
       "    .dataframe thead th {\n",
       "        text-align: right;\n",
       "    }\n",
       "</style>\n",
       "<table border=\"1\" class=\"dataframe\">\n",
       "  <thead>\n",
       "    <tr style=\"text-align: right;\">\n",
       "      <th></th>\n",
       "      <th>Variable</th>\n",
       "      <th>N</th>\n",
       "      <th>Mean</th>\n",
       "      <th>SD</th>\n",
       "      <th>SE</th>\n",
       "      <th>95% Conf.</th>\n",
       "      <th>Interval</th>\n",
       "    </tr>\n",
       "  </thead>\n",
       "  <tbody>\n",
       "    <tr>\n",
       "      <th>0</th>\n",
       "      <td>Lunch</td>\n",
       "      <td>68.0</td>\n",
       "      <td>2.728088</td>\n",
       "      <td>1.205345</td>\n",
       "      <td>0.146170</td>\n",
       "      <td>2.436332</td>\n",
       "      <td>3.019844</td>\n",
       "    </tr>\n",
       "    <tr>\n",
       "      <th>1</th>\n",
       "      <td>Dinner</td>\n",
       "      <td>176.0</td>\n",
       "      <td>3.102670</td>\n",
       "      <td>1.436243</td>\n",
       "      <td>0.108261</td>\n",
       "      <td>2.889005</td>\n",
       "      <td>3.316335</td>\n",
       "    </tr>\n",
       "    <tr>\n",
       "      <th>2</th>\n",
       "      <td>combined</td>\n",
       "      <td>244.0</td>\n",
       "      <td>2.998279</td>\n",
       "      <td>1.383638</td>\n",
       "      <td>0.088578</td>\n",
       "      <td>2.823799</td>\n",
       "      <td>3.172758</td>\n",
       "    </tr>\n",
       "  </tbody>\n",
       "</table>\n",
       "</div>"
      ],
      "text/plain": [
       "   Variable      N      Mean        SD        SE  95% Conf.  Interval\n",
       "0     Lunch   68.0  2.728088  1.205345  0.146170   2.436332  3.019844\n",
       "1    Dinner  176.0  3.102670  1.436243  0.108261   2.889005  3.316335\n",
       "2  combined  244.0  2.998279  1.383638  0.088578   2.823799  3.172758"
      ]
     },
     "metadata": {},
     "output_type": "display_data"
    },
    {
     "name": "stdout",
     "output_type": "stream",
     "text": [
      "\n",
      "T-Test Results:\n"
     ]
    },
    {
     "data": {
      "text/html": [
       "<div>\n",
       "<style scoped>\n",
       "    .dataframe tbody tr th:only-of-type {\n",
       "        vertical-align: middle;\n",
       "    }\n",
       "\n",
       "    .dataframe tbody tr th {\n",
       "        vertical-align: top;\n",
       "    }\n",
       "\n",
       "    .dataframe thead th {\n",
       "        text-align: right;\n",
       "    }\n",
       "</style>\n",
       "<table border=\"1\" class=\"dataframe\">\n",
       "  <thead>\n",
       "    <tr style=\"text-align: right;\">\n",
       "      <th></th>\n",
       "      <th>Independent t-test</th>\n",
       "      <th>results</th>\n",
       "    </tr>\n",
       "  </thead>\n",
       "  <tbody>\n",
       "    <tr>\n",
       "      <th>0</th>\n",
       "      <td>Difference (Lunch - Dinner) =</td>\n",
       "      <td>-0.3746</td>\n",
       "    </tr>\n",
       "    <tr>\n",
       "      <th>1</th>\n",
       "      <td>Degrees of freedom =</td>\n",
       "      <td>242.0000</td>\n",
       "    </tr>\n",
       "    <tr>\n",
       "      <th>2</th>\n",
       "      <td>t =</td>\n",
       "      <td>-1.9063</td>\n",
       "    </tr>\n",
       "    <tr>\n",
       "      <th>3</th>\n",
       "      <td>Two side test p value =</td>\n",
       "      <td>0.0578</td>\n",
       "    </tr>\n",
       "    <tr>\n",
       "      <th>4</th>\n",
       "      <td>Difference &lt; 0 p value =</td>\n",
       "      <td>0.0289</td>\n",
       "    </tr>\n",
       "    <tr>\n",
       "      <th>5</th>\n",
       "      <td>Difference &gt; 0 p value =</td>\n",
       "      <td>0.9711</td>\n",
       "    </tr>\n",
       "    <tr>\n",
       "      <th>6</th>\n",
       "      <td>Cohen's d =</td>\n",
       "      <td>-0.2722</td>\n",
       "    </tr>\n",
       "    <tr>\n",
       "      <th>7</th>\n",
       "      <td>Hedge's g =</td>\n",
       "      <td>-0.2713</td>\n",
       "    </tr>\n",
       "    <tr>\n",
       "      <th>8</th>\n",
       "      <td>Glass's delta1 =</td>\n",
       "      <td>-0.3108</td>\n",
       "    </tr>\n",
       "    <tr>\n",
       "      <th>9</th>\n",
       "      <td>Point-Biserial r =</td>\n",
       "      <td>-0.1216</td>\n",
       "    </tr>\n",
       "  </tbody>\n",
       "</table>\n",
       "</div>"
      ],
      "text/plain": [
       "               Independent t-test   results\n",
       "0  Difference (Lunch - Dinner) =    -0.3746\n",
       "1           Degrees of freedom =   242.0000\n",
       "2                            t =    -1.9063\n",
       "3        Two side test p value =     0.0578\n",
       "4       Difference < 0 p value =     0.0289\n",
       "5       Difference > 0 p value =     0.9711\n",
       "6                    Cohen's d =    -0.2722\n",
       "7                    Hedge's g =    -0.2713\n",
       "8               Glass's delta1 =    -0.3108\n",
       "9             Point-Biserial r =    -0.1216"
      ]
     },
     "metadata": {},
     "output_type": "display_data"
    }
   ],
   "source": [
    "# Display results\n",
    "print(\"\\nT-Test Summary Statistics:\")\n",
    "display(test_summary)\n",
    "print(\"\\nT-Test Results:\")\n",
    "display(test_results)"
   ]
  },
  {
   "cell_type": "markdown",
   "id": "3606e159",
   "metadata": {},
   "source": [
    "## Output and Result Interpretation\n",
    "\n",
    "Looking at the T-Test result outputs, we can see that the two side test p value is 0.0578 which is greater that 0.05. This means that there is no statistically significant difference in the tip amount between Lunch and Dinner time."
   ]
  }
 ],
 "metadata": {
  "kernelspec": {
   "display_name": ".venv",
   "language": "python",
   "name": "python3"
  },
  "language_info": {
   "codemirror_mode": {
    "name": "ipython",
    "version": 3
   },
   "file_extension": ".py",
   "mimetype": "text/x-python",
   "name": "python",
   "nbconvert_exporter": "python",
   "pygments_lexer": "ipython3",
   "version": "3.13.3"
  }
 },
 "nbformat": 4,
 "nbformat_minor": 5
}
